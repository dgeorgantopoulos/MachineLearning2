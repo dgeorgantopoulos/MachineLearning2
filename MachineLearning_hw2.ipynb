{
  "cells": [
    {
      "cell_type": "markdown",
      "metadata": {
        "id": "P-LvR1pNuIDY"
      },
      "source": [
        "#Ερώτημα 1\n",
        "\n",
        "1.1\n",
        "\n",
        "Αρχικά γίνεται unzip το αρχείο με τις εικόνες το οποίο περιέχει τα δεδομένα αυτής της άσκησης το οποίο για λόγους ευκολίας έχω ανεβάσει το drive μου. Επίσης κάνω import όσες βιβλιοθήκες θα χρειαστούν για την ορθή λειτουργία της εργασίας."
      ]
    },
    {
      "cell_type": "code",
      "execution_count": null,
      "metadata": {
        "id": "xaCU4BJPwLxd"
      },
      "outputs": [],
      "source": [
        "#Import pandas to load the csv dataset\n",
        "import pandas as pd\n",
        "import re as re\n",
        "import math\n",
        "import matplotlib.pyplot as plt\n",
        "import time\n",
        "import numpy as np\n",
        "import numpy.linalg as LA\n",
        "import cv2\n",
        "from sklearn import decomposition as decomposition\n",
        "import matplotlib.pyplot as plt\n",
        "from urllib.request import urlopen\n",
        "import numpy as np\n",
        "from matplotlib.offsetbox import OffsetImage, AnnotationBbox\n",
        "\n",
        "#Libraries to get access to files\n",
        "import os\n",
        "from pydrive.auth import GoogleAuth\n",
        "from pydrive.drive import GoogleDrive\n",
        "from google.colab import auth\n",
        "from oauth2client.client import GoogleCredentials"
      ]
    },
    {
      "cell_type": "code",
      "execution_count": null,
      "metadata": {
        "id": "hZIFvXN5wX7V"
      },
      "outputs": [],
      "source": [
        "# Authenticate and create the PyDrive client.\n",
        "auth.authenticate_user()\n",
        "gauth = GoogleAuth()\n",
        "gauth.credentials = GoogleCredentials.get_application_default()\n",
        "drive = GoogleDrive(gauth)\n",
        "\n",
        "#Load the images dataset\n",
        "link = 'https://drive.google.com/file/d/open?id=1IWuU1npNm0g0Imp0DQfvvPgkBobkkYXc'\n",
        "fluff, id_data = link.split('=')\n",
        "downloaded = drive.CreateFile({'id':id_data})\n",
        "downloaded.GetContentFile('images.zip')\n",
        "!unzip 'images.zip'"
      ]
    },
    {
      "cell_type": "markdown",
      "metadata": {
        "id": "2jvv0pG6pz6m"
      },
      "source": [
        "Οι συναρτήσεις στο παρακάτω κελί κώδικα απαντούν στο πρώτο υποερώτημα της άκσησης αυτής. Η συνάρτηση `get_image_label()` επιστρέφει [0,1,2] ανάλογα με το όνομα της εικόνας για να έχουμε τα ορθά labels στο dataset μας. Συγκεκριμένα το 0 αντιστοιχεί στο Χειμώνα, το 1 στο Φθινόπωρο και το 2 στην Άνοιξη. Η συνάρτηση `loadImages()` όπως μας ζητήθηκε από την εκφώνηση δέχεται το path στο οποίο βρίσκονται οι φωτογραφίες, τις φορτώνει στη μνήμη με τη χρήση της βιβλιοθήκης cv2, της κάνει resize σε 100x100 ( και κρατάει ένα δεύτερο set απο τισ εικόνες στη μνήμη μεγέθους 50x50 για κάποιο ζητήμα που προκύψαν στα παρακάτω ερωτήματα ), βρίκσει τα κατάλληλα labels και τελικά επιστρέφει το dataset με τα label του."
      ]
    },
    {
      "cell_type": "code",
      "execution_count": null,
      "metadata": {
        "id": "BJYnyq8CuLLt"
      },
      "outputs": [],
      "source": [
        "def get_image_label(image_name):\n",
        "  if (image_name[0]=='W'):\n",
        "    return 0\n",
        "  elif (image_name[0]=='F'):\n",
        "    return 1\n",
        "  else:\n",
        "    return 2\n",
        "\n",
        "def loadImages(path):\n",
        "\n",
        "  #Initialize the input data as an empty list\n",
        "  X=[]\n",
        "  #Initialize the scaled input data on a smaller scale (50x50)\n",
        "  X_50=[]\n",
        "  #Initialize the labels as an empty list\n",
        "  labels=[]\n",
        "  for filename in os.listdir(path):\n",
        "    labels.append(get_image_label(filename))\n",
        "    #Load the image using cv2 library\n",
        "    img = cv2.imread(path+filename)\n",
        "    #Resize the image to 100x100\n",
        "    img = cv2.resize(img,(100,100))\n",
        "    img_50 = cv2.resize(img,(50,50))\n",
        "    #Cv2 uses bgr representation for coloured images\n",
        "    #Revert the arrays to rgb for better use\n",
        "    img = cv2.cvtColor(img, cv2.COLOR_BGR2RGB)\n",
        "    img_50 = cv2.cvtColor(img_50, cv2.COLOR_BGR2RGB)\n",
        "    X.append(img)\n",
        "    X_50.append(img_50)\n",
        "  X=np.array(X)\n",
        "  X_50=np.array(X_50)\n",
        "  return X,X_50,labels"
      ]
    },
    {
      "cell_type": "markdown",
      "metadata": {
        "id": "O4_okBtw2ChW"
      },
      "source": [
        "1.2\n",
        "\n",
        "Για την PCA έχουμε τα εξής :\n",
        "\n",
        "Τα παρακάτω κελιά απαντούν στο δεύτερο υποερώτημα της άσκησης. Αρχικά υλοποίησα την συνάρτηση `myPCA()`, η οποία κάνει τη διαδικασία της PCA για τα δεδομένα X, επιστρέφοντας τα δεδομένα μετασχηματισμένα με βάση της k κύριες συνιστώσες. Ο κώδικας της συνάρτησης αυτής είναι κατα κύριο λόγο ο κώδικας που μας δόθηκε στο φροντιστήριο του μαθήματος με μερικές αλλαγές ώστε η συνάρτησή μου να συμβαδίζει με την PCA της sklearn όσον αφορά τα αποτελέσμετα. Συγκεκριμένα, στα πλαίσια της άσκησης άλλαξα τα dim με τα samplesNum ώστε να συμφωνούν οι διαστάσεις των αποτελεσμάτων και ο μετασχηματισμός της PCA να οδηγεί σε ενα αποτελέσμα της μορφής (2,30) αντί για (2,100) αν υποθέσουμε ότι αρχικά το Χ είχε διαστάσεις (30,100) και k=2. Επιπλέον για μεγαλύτερη ακρίβεια υλοποίησα την διαδικασία η οποία υπολογίζει τον πίνακα συνδιακύμανσης (covariance matrix). Ο πίνακας σκέδης (scatter matrix) μπορεί ακόμα να χρησιμοποιηθεί να το όρισμα `calculate_cov=False`. Στη συνέχεια για την ταξινόμηση χρησιμοποίησα την argsort της numpy για μεγαλύτερη ταχύτητα και ακρίβεια στην ταξινόμηση. Αφού επιλεγούν οι k κύριες συνιστώσες γίνεται ο πολλαπλασιασμός με το αρχικό Χ από το οποίο έχει αφαιρεθεί το μέσο του πίνακα (meanVector). Στο τέλος το αποτελέσμα επιστρέφεται σε ανάστροφη μορφή του πίνακα. Η παραπάνω διαδικασία κάνει επιτυχώς την διαδικασία PCA.\n",
        "\n",
        ">Η συνάρτηση `PCA_ImageSpaceVisualization()` η οποία ζητήθηκε από την εκφώνηση καλεί την PCA για τον μετασχηματισμό των δεδομένων. Να σημειωθεί ότι αρχικά τα δεδομένα έχουν μέγεθος (30,100,100,3). Για να εφαρμοστεί η PCA πρέπει τα δεδομένα που αναπαριστούν κάθε εικόνα από (100,100,3) να μετασχηματιστούν σε (30000,) για να λειτουργήσει η PCA. Άρα το μέγεθος του input της PCA θα είναι (30,30000) και εφόσον θα επιλέξουμε k=2 συνιστώσες το αναμένουμε το αποτέλεσμα να είναι (30,2). Στη συνέχεια τυπώνουμε κάθε σημείο του αποτελέσματος με την εικόνα που του αντιστοιχεί για να δημιουργήσουμε το plot που ζητείται στην εκφώνηση.\n"
      ]
    },
    {
      "cell_type": "code",
      "execution_count": null,
      "metadata": {
        "id": "C8qefnBF2FpV"
      },
      "outputs": [],
      "source": [
        "#Function to perform a PCA on a given input keeping the k best components\n",
        "def myPCA(X,k,calculate_cov=False):\n",
        "\n",
        "  dim=X.shape[0]\n",
        "  samplesNum=X.shape[1]\n",
        "\n",
        "  #Calculate the mean of X\n",
        "  meanVector = []\n",
        "  for i in range(samplesNum):\n",
        "    meanVector.append(np.mean(X[:,i]))\n",
        "  meanVector = np.array(meanVector)\n",
        "\n",
        "  cov=[]\n",
        "  #If calculate_cov is false then calculate the scatter matrix\n",
        "  #and use its eigenvalues and eigenvectors for the component analysis\n",
        "  if calculate_cov==False :\n",
        "    scatterMat = np.zeros((samplesNum,samplesNum))\n",
        "    for i in range(dim):\n",
        "        scatterMat += ((X[i,:].reshape(samplesNum,1) - meanVector)).dot((X[i,:].reshape(samplesNum,1) - meanVector).T)\n",
        "    cov = scatterMat\n",
        "  #Calculate the covariance matrix\n",
        "  else:\n",
        "    cov = np.dot((X-meanVector).T, (X-meanVector))/(dim-1)\n",
        "\n",
        "  #Get the eigen values\n",
        "  eigValue, eigVector = np.linalg.eigh(cov)\n",
        "\n",
        "  index = np.argsort(eigValue)[::-1]\n",
        "  selectededEigenValues = eigValue[index]\n",
        "  selectededEigenVectors = eigVector[:,index]\n",
        "\n",
        "  w = selectededEigenVectors[:,0:k]\n",
        "  XAllTrans = w.T.dot((X-meanVector).T)\n",
        "  return XAllTrans.T\n",
        "\n",
        "\n",
        "def PCA_ImageSpaceVisualization(Χ):\n",
        "  x_points=[]\n",
        "  y_points=[]\n",
        "  pca = decomposition.PCA(2)\n",
        "  X_flat = X.reshape(30,-1)\n",
        "  components = pca.fit_transform(X_flat)\n",
        "  count=0\n",
        "  for i in range(30):\n",
        "    count+=1\n",
        "    x_points+=[components[i][0]]\n",
        "    y_points+=[components[i][1]]\n",
        "    print(str(count)+\"/\"+str((X.shape[0]))+\"  Component taken as point x:\"+str(components[i][0])+\" y:\"+str(components[i][1]))\n",
        "\n",
        "  fig, ax = plt.subplots(figsize=(20,15))\n",
        "  ax.scatter(x_points, y_points)\n",
        "\n",
        "  for x0, y0, x in zip(x_points,y_points,X):\n",
        "    ab = AnnotationBbox(OffsetImage(x), (x0, y0), frameon=False)\n",
        "    ax.add_artist(ab)"
      ]
    },
    {
      "cell_type": "markdown",
      "metadata": {
        "id": "dmLwPg9HZiCq"
      },
      "source": [
        "Σε αυτό το κελί κώδικα γίνεται η φόρτωση των δεδομένων. Επειδή η χειροκίνητη υλοποίηση της PCA στη συνάρτηση `myPCA()` <<κρασάρει>> λόγο μνήνης στα δεδομένα με μέγεθος 100x100 , χρησιμοποίησα τα δεδομένα σε μέγεθος 50x50 και σύγκρινα τα αποτελέσματα της δικιάς μου PCA με την PCA της sklearn ενώ για το γράφημα χρησιμοποίησα την PCA της sklearn η οποία μπορεί να χειριστεί τα δεδομένα σε μορφή 100x100 ώστε το plot να είναι σωστό, όπως προτάθηκε στο μάθημα. Παρατηρούμε παρακάτω λοιπόν ότι η δικιά μου PCA έχει τα ίδια αποτελέσματα με την PCA της sklearn."
      ]
    },
    {
      "cell_type": "code",
      "execution_count": null,
      "metadata": {
        "id": "NwclNNF2xIWe"
      },
      "outputs": [],
      "source": [
        "path = \"images/\"\n",
        "X,X_50,labels = loadImages(path)\n",
        "#Compare the PCA I create and sklearn's PCA\n",
        "#on the data scaled to (50x50)\n",
        "X_50 = X_50.reshape(30,-1)\n",
        "my_components = myPCA(X_50,2,True)\n",
        "pca = decomposition.PCA(2)\n",
        "components = pca.fit_transform(X_50)\n",
        "print(\"My components : \")\n",
        "print(my_components)\n",
        "print(\"-----------------\")\n",
        "print(\"Sklearn's components : \")\n",
        "print(components)"
      ]
    },
    {
      "cell_type": "markdown",
      "metadata": {
        "id": "HaW1diwSah75"
      },
      "source": [
        "Σε αυτό το κομμάτι κωδικα καλείται η `PCA_ImageSpaceVisualization()` για τη δημιουργία του plot. To plot έχει την μορφή την οποία περιμέναμε από την εκφώνηση."
      ]
    },
    {
      "cell_type": "code",
      "execution_count": null,
      "metadata": {
        "id": "rFt6E5GvRufT"
      },
      "outputs": [],
      "source": [
        "PCA_ImageSpaceVisualization(X)"
      ]
    },
    {
      "cell_type": "markdown",
      "metadata": {
        "id": "l_l01WcAp4UX"
      },
      "source": [
        "1.3\n",
        "\n",
        "Η απόσταση των εικόνων στο plot σημαίνει ότι τα δεδομένα τους ήταν παρόμοια στην αρχική τους μορφή. Συγκεκριμένα παρατηρούμε ότι τα χρώματα που είναι παρόμοια βρίσκονται πιο κοντά το ένα στο άλλο σε αντίθεση με πιο ανόμοια χρώματα (πχ άνοιξη-χειμώνας). Αυτό οφείλεται στο γεγονός ότι οι αρχικοί πίνακες που αναπαριστούν τα τρία κανάλια για τα χρώματα θα έχουν παρόμοια δεδομένα για εικόνες με παρόμοια χρώματα. Επομένως όταν γίνει η επιλογή των 2 κυρίων συνιστωσών η ιδιότητα αυτή των εικόνων αντικατοπτρίζεται και στον δισδιάστατο χώρο. Συνεπώς εικόνες με διαφορετικά χρώματα και άρα σχετικά διαφορετικές αναπαραστάσεις στα δεδομένα τους θα μεγάλη απόσταση στο δισδιάστατο χώρο."
      ]
    },
    {
      "cell_type": "markdown",
      "metadata": {
        "id": "LNIUsGH1p83H"
      },
      "source": [
        "1.4\n",
        "\n",
        "Παρόμοια με το παραπάνω ερώτημα οι εικόνες πχ του χειμώνα που έχουν πολύ διαφορετικά χρώματα από το υπόλοιπο dataset φαίνεται να είναι όλες πολυ κοντά η μια με την άλλη. Αυτό οφείλεται στο γεγονός που εξηγήθηκε στο παραπάνω ερώτημα με την αναπαράσταση των δεδομένων στα τρια κανάλια για τα χρώματα. Επομένως είναι φυσικό αν οι εικόνες έχουν κοντινά διανύσματα στην πλήρη αναπαράστασή τους είναι λογικό και στο δισδιάστατο χώρο να βρίσκονται κόντα η μια στην άλλη και να τείνουν να ομαδοποιούνται. Αυτό είναι πολύ προφανές με τις εικόνες του χειμώνα και κάπως πιο ασαφές με τις εικόνες της άνοιξης και του φθινοπώρου που τα χρώματά τους δεν απέχουν τόσο πολύ."
      ]
    },
    {
      "cell_type": "markdown",
      "metadata": {
        "id": "0OQVJFevqOoG"
      },
      "source": [
        "1.5\n",
        "\n",
        "Ταξινόμηση των αποτελεσμάτων με τη χρήση του αλγορίθμου των K-πλησιέστερων γειτόνων. Η συνάρτηση που υλοποιεί την ταξινόμηση είναι η συνάρτηση που υλοποίησα `K_neighbors_image_classification()` . Αυτή η συνάρτηση αρχικοποιεί ένα αντικείμενο KNeighborsClassifier και ένα kfold για να υλοποιήση τη διαδικασία. Το kfold αρχικοποιείται με 5 όπως ζητήθηκε από την εκφώνηση. Ο ταξινομητής αρχικοποίεται με k το οποίο δίνεται από σαν όρισμα στη συνάρτηση. Στη συνέχεια γίνεται η διαδικασία του cross validation και υπολογίζεται το μέσω accuracy το οποίο και τυπώνεται."
      ]
    },
    {
      "cell_type": "code",
      "execution_count": null,
      "metadata": {
        "id": "adKw-dbGqXDG"
      },
      "outputs": [],
      "source": [
        "from sklearn.neighbors import KNeighborsClassifier\n",
        "from sklearn.model_selection import KFold\n",
        "from sklearn.model_selection import cross_val_score\n",
        "from sklearn.model_selection import train_test_split\n",
        "\n",
        "#Function to return the data after PCA\n",
        "def get_data_from_PCA(X,k):\n",
        "  new_X=[]\n",
        "  pca = decomposition.PCA(k)\n",
        "  pca.fit(X)\n",
        "  new_X = pca.transform(X)\n",
        "  return new_X\n",
        "\n",
        "#Function to get the accuracy of the predicted outputs\n",
        "def get_accuracy(y,y_pred):\n",
        "  n = len(y)\n",
        "  count=0\n",
        "  for i in range(len(y)):\n",
        "    if y[i]==y_pred[i]:\n",
        "      count+=1\n",
        "  return float(count/n)\n",
        "\n",
        "\"\"\"A function used to implement a classification\n",
        "based on sklearn's KNeighborsClassifier along\n",
        "with sklearn's kfold to perform a 5-fold\n",
        "cross validation on the learning procudre \"\"\"\n",
        "def K_neighbors_image_classification(X,y,k):\n",
        "  #Initialize a kfold object\n",
        "  kf = KFold(n_splits=5)\n",
        "  #Initialize the KNeighborsClassifier\n",
        "  model = KNeighborsClassifier(n_neighbors=k)\n",
        "\n",
        "  X_tr, X_te, y_tr, y_te = train_test_split(X, y, test_size=0.3,random_state=42)\n",
        "\n",
        "  #Pefrom the algorithm\n",
        "  index=0\n",
        "  scores=[]\n",
        "  for train_index, test_index in kf.split(X_tr,y_tr):\n",
        "    #Get the spli data from kflod\n",
        "    X_train, X_test = X[train_index], X[test_index]\n",
        "    y_train, y_test = y[train_index], y[test_index]\n",
        "    #Train the model with the train data\n",
        "    model.fit(X_train,y_train)\n",
        "    #Get the predictions\n",
        "    y_pred = model.predict(X_test)\n",
        "    scores.append(get_accuracy(y_test,y_pred))\n",
        "    index+=1\n",
        "  print(\"Mean Accuracy on training: \"+str(sum(scores)/5))\n",
        "  y_pred = model.predict(X_te)\n",
        "  print(\"Accuracy on test set after training: \"+str(get_accuracy(y_te,y_pred)))\n",
        "\n"
      ]
    },
    {
      "cell_type": "markdown",
      "metadata": {
        "id": "ulkMk5Wa3eB_"
      },
      "source": [
        "1.5.1"
      ]
    },
    {
      "cell_type": "markdown",
      "metadata": {
        "id": "XcrGkeq3ejig"
      },
      "source": [
        "Στο παρακάτω κελί γίνεται η κλήση της συνάρτησης για την ταξινόμηση. Αρχικά καλείται χωρίς τον μετασχηματισμό της PCA για 1 και 3 γείτονες. Στη συνέχεια καλείται με τον μετασχηματισμό της PCA για k=18 συνιστώσες πάλι για 1 και 3 γείτονες. Παρατητούμε λοιπόν ότι τα αρχικά δεδομένα με τα μετασχηματισμένα έχουν την ίδια απόδοση ή καλύτερη απόδοση. Αυτό για πολύ περισσότερα δεδομένα θα είχε πολύ σημαντική απόδοση στο χρόνο ή για δεδομένα τα οποίο είναι πιο διάσπαρτα από ότι εικόνες. Επίσης οφείλεται στο γεγονός ότι ο ταξινομητής των πλησιέστερων γειτόνων συγκρίνει δεδομένα στο δισδιάστατο χώρο, άρα όσο μιρκότερη η αρχική διάσταση των δεδομένων και άρα και το μέγεθός τους σε μορφή διανύσματος τόσο πιο αποτελεσματικός θα είναι ο αλγόριθμος.\n",
        ">Το 1-ΝΝ βλέπουμε ότι έχει ίδια αποτελέσματα με το 3-ΝΝ κατα τη διάρκεια της εκπαίδευσης. Παρατηρούμε όμως ότι όταν ελέγχουμε το test set η απόδοσή του μειώνεται διότι ο 1-ΝΝ τίνει να κάνει overfit στο training set όπως γνωρίζουμε από τη θεωρία."
      ]
    },
    {
      "cell_type": "code",
      "execution_count": null,
      "metadata": {
        "colab": {
          "base_uri": "https://localhost:8080/"
        },
        "id": "CoDwckPVwXWH",
        "outputId": "9521d609-4100-498e-887d-b774b197aefd"
      },
      "outputs": [
        {
          "name": "stdout",
          "output_type": "stream",
          "text": [
            "Data without PCA transformation:\n",
            "1-NN:\n",
            "Mean Accuracy on training: 0.72\n",
            "Accuracy on test set after training: 0.8888888888888888\n",
            "3-NN:\n",
            "Mean Accuracy on training: 0.72\n",
            "Accuracy on test set after training: 1.0\n",
            "-----------------------\n",
            "Data with PCA transformation:\n",
            "1-NN:\n",
            "Mean Accuracy on training: 0.77\n",
            "Accuracy on test set after training: 0.8888888888888888\n",
            "3-NN:\n",
            "Mean Accuracy on training: 0.77\n",
            "Accuracy on test set after training: 1.0\n",
            "-----------------------\n"
          ]
        }
      ],
      "source": [
        "print(\"Data without PCA transformation:\")\n",
        "\n",
        "#Run the algorithm for 1 neighbor\n",
        "print(\"1-NN:\")\n",
        "X_for_training = X.reshape(30,30000)\n",
        "y = np.array(labels)\n",
        "K_neighbors_image_classification(X_for_training,y,1)\n",
        "\n",
        "#Run the algorithm for 3 neighbors\n",
        "print(\"3-NN:\")\n",
        "K_neighbors_image_classification(X_for_training,y,3)\n",
        "print(\"-----------------------\")\n",
        "\n",
        "\n",
        "#Get the top k components and run the algorithm with the new data\n",
        "print(\"Data with PCA transformation:\")\n",
        "X_for_training = X.reshape(30,30000)\n",
        "X_for_training = get_data_from_PCA(X_for_training,18)\n",
        "#Run the algorithm for 1 neighbor\n",
        "print(\"1-NN:\")\n",
        "K_neighbors_image_classification(X_for_training,y,1)\n",
        "#Run the algorithm for 3 neighbors\n",
        "print(\"3-NN:\")\n",
        "K_neighbors_image_classification(X_for_training,y,3)\n",
        "print(\"-----------------------\")"
      ]
    },
    {
      "cell_type": "markdown",
      "metadata": {
        "id": "t65z19LF3g8m"
      },
      "source": [
        "1.5.2\n",
        "\n",
        "Για την επιλογή του αριθμού των κύριων συνιστωσών υλοποίηση την συνάρτηση στο παρακάτω κελί κώδικα. Η συνάρτηση αυτή υπολογίζει τις ιδιοτιμές του πίνακα συνδιακύμανσης και στη συνέχεια υπολογίζει για την κάθε ιδιοτιμή $\\lambda_i$ το παρακάτω : $\\frac{\\lambda_i}{\\lambda_1 + \\lambda_2 + ... \\lambda_n}$ και τα αποθηκεύει. Αφού γίνει αυτός ο υπολογισμός επιστρέφει όλα τα αποτελέσματα σε έναν numpy array."
      ]
    },
    {
      "cell_type": "code",
      "execution_count": null,
      "metadata": {
        "id": "hXy2EnlnYXG9"
      },
      "outputs": [],
      "source": [
        "def my_pca_explained_variance_ratio(X,k):\n",
        "  explained_variance_ratio=[]\n",
        "  dim=X.shape[0]\n",
        "  samplesNum=X.shape[1]\n",
        "  meanVector = np.mean(X,axis=0)\n",
        "  cov = np.dot((X-meanVector).T, (X-meanVector))/(dim-1)\n",
        "\n",
        "  #Get the eigen values\n",
        "  eigValue, eigVector = np.linalg.eigh(cov)\n",
        "\n",
        "  index = np.argsort(eigValue)[::-1]\n",
        "  selectededEigenValues = eigValue[index]\n",
        "  selectededEigenVectors = eigVector[:,index]\n",
        "\n",
        "  selectededEigenValues = abs(selectededEigenValues)\n",
        "  list_sum = sum(selectededEigenValues)\n",
        "  for i in range(k):\n",
        "    explained_variance_ratio.append(selectededEigenValues[i]/(list_sum))\n",
        "\n",
        "  return np.array(explained_variance_ratio)\n",
        "\n"
      ]
    },
    {
      "cell_type": "markdown",
      "metadata": {
        "id": "oKCukJjzlaUh"
      },
      "source": [
        "Για την σύγκριση των αποτελεσμάτων χρησιμοποίησα τα δεδομένα σε μέγεθος 50x50 και βλέπουμε ότι η συναρτησή μου έχει ορθά αποτελέσματα."
      ]
    },
    {
      "cell_type": "code",
      "execution_count": null,
      "metadata": {
        "colab": {
          "base_uri": "https://localhost:8080/"
        },
        "id": "fcjJPCRKa2JV",
        "outputId": "fec59557-e9f9-468d-e297-f004670b0972"
      },
      "outputs": [
        {
          "name": "stdout",
          "output_type": "stream",
          "text": [
            "My exlpained variance ratio: \n",
            "[0.49440505 0.09643638 0.06057175 0.04807374 0.03768706 0.03169899\n",
            " 0.02593779 0.02323269 0.0183298  0.01659409 0.01570432 0.01399692\n",
            " 0.01212066 0.01079611 0.01046809 0.00935343 0.00892967 0.00835396\n",
            " 0.00788499 0.00748613]\n",
            "------------------------------\n",
            "Sklearn's exlpained variance ratio: \n",
            "[0.49440505 0.09643638 0.06057175 0.04807374 0.03768706 0.03169899\n",
            " 0.02593779 0.02323269 0.0183298  0.01659409 0.01570432 0.01399692\n",
            " 0.01212066 0.01079611 0.01046809 0.00935343 0.00892967 0.00835396\n",
            " 0.00788499 0.00748613]\n"
          ]
        }
      ],
      "source": [
        "pca = decomposition.PCA(20)\n",
        "pca.fit(X_50)\n",
        "new_X = pca.transform(X_50)\n",
        "print(\"My exlpained variance ratio: \")\n",
        "print(my_pca_explained_variance_ratio(X_50,20))\n",
        "print(\"------------------------------\")\n",
        "print(\"Sklearn's exlpained variance ratio: \")\n",
        "print(pca.explained_variance_ratio_)"
      ]
    },
    {
      "cell_type": "markdown",
      "metadata": {
        "id": "k92ZLtX4lono"
      },
      "source": [
        "Η επιλογή των k=18 συνιστωσών έγινε με τη βοήθεια του κώδικα του εργαστηρίου. Για τα δεδομένα μεγέθους 100x100 χρησιμοποίησα τη βιβλιοθήκη sklearn και την PCA για τον ίδιο λόγο με το πρώτο ερώτημα. Η συνάρτηση μου για δεδομένα μεγέθους 100x100 κρασάρει. Αφού λοιπόν απέδιεξα την εγκυρότητα της συνάρτησής μου παραπάνω έχουμε τα παρακάτω. Με τον κώδικα λοιπόν του εργαστηρίου παρατηρούμε ότι με k=18 συνιστώσες έχουμε λίγο παραπάνω από το 90% το δεδομένων, άρα μπορούμε να χρησιμποιήσουμε αυτές σε αντίθεση με το αρχικό dataset."
      ]
    },
    {
      "cell_type": "code",
      "execution_count": null,
      "metadata": {
        "colab": {
          "base_uri": "https://localhost:8080/",
          "height": 808
        },
        "id": "V94c3V1FVQZv",
        "outputId": "6282c50a-a481-4f32-bfdf-cbcec9b8b403"
      },
      "outputs": [
        {
          "name": "stdout",
          "output_type": "stream",
          "text": [
            "[0.46443544 0.09279369 0.05887231 0.04801457 0.03897304]\n",
            "[0.46443544 0.09279369 0.05887231 0.04801457 0.03897304 0.03279584\n",
            " 0.02771126 0.02472192 0.01983224 0.01804814 0.01712622 0.01576069\n",
            " 0.01372996 0.01266584 0.01174871 0.01096085 0.01053376 0.00989092\n",
            " 0.00962919 0.0087183  0.00865799 0.00761071 0.00740141 0.00737079\n",
            " 0.00687286 0.00545976 0.00488108 0.00466748]\n",
            "----------\n",
            "[0.46443544 0.55722912 0.61610143 0.664116   0.70308904 0.73588488\n",
            " 0.76359614 0.78831806 0.8081503  0.82619844 0.84332465 0.85908535\n",
            " 0.87281531 0.88548115 0.89722986 0.90819071 0.91872447 0.92861539\n",
            " 0.93824458 0.94696288 0.95562087 0.96323158 0.97063299 0.97800378\n",
            " 0.98487665 0.99033641 0.99521748 0.99988497]\n"
          ]
        },
        {
          "data": {
            "image/png": "[encoded data removed]",
            "text/plain": [
              "<Figure size 720x720 with 4 Axes>"
            ]
          },
          "metadata": {
            "needs_background": "light",
            "tags": []
          },
          "output_type": "display_data"
        }
      ],
      "source": [
        "X_for_training = X.reshape(30,-1)\n",
        "pca = decomposition.PCA(28)\n",
        "pca.fit(X_for_training)\n",
        "new_X = pca.transform(X_for_training)\n",
        "\n",
        "print (pca.explained_variance_ratio_[:5])\n",
        "\n",
        "cumExplainedVar=np.cumsum(pca.explained_variance_ratio_)\n",
        "print(pca.explained_variance_ratio_)\n",
        "print(\"----------\")\n",
        "print(cumExplainedVar)\n",
        "\n",
        "plt.figure(figsize=(10, 10))\n",
        "numOfComp=5\n",
        "plt.subplot(2, 2, 1)\n",
        "plt.bar(range(numOfComp),pca.explained_variance_ratio_[:numOfComp])\n",
        "plt.xlabel(' components ')\n",
        "plt.ylabel(' explained variance');\n",
        "\n",
        "\n",
        "plt.subplot(2, 2, 2)\n",
        "plt.plot(cumExplainedVar[:5])\n",
        "plt.xlabel('number of components retained (5 first)')\n",
        "plt.ylabel('cumulative explained variance');\n",
        "\n",
        "plt.subplot(2, 2, 3)\n",
        "plt.plot(cumExplainedVar[:15])\n",
        "plt.xlabel('number of components retained (15 first)')\n",
        "plt.ylabel('cumulative explained variance');\n",
        "\n",
        "plt.subplot(2, 2, 4)\n",
        "plt.plot(cumExplainedVar)\n",
        "plt.xlabel('number of components retained (28)')\n",
        "plt.ylabel('cumulative explained variance');\n",
        "\n",
        "plt.show()\n"
      ]
    },
    {
      "cell_type": "markdown",
      "metadata": {
        "id": "gOqVJY3UtwvW"
      },
      "source": [
        "#Ερώτημα 2\n",
        "2.1"
      ]
    },
    {
      "cell_type": "markdown",
      "metadata": {
        "id": "HBS7XsNA8g5H"
      },
      "source": [
        "Με τη βοήθεια του Matrix Cookbook για τον γρηγορότερο υπολογισμό των πράξεων έχουμε τα εξής για το πρόβλημα βελτιστοποίησης για την κανονικοποιημένη μη-αρνητική παραγοντοποίηση πινάκων $min||X - AB||^{2}_F + \\lambda||A||^{2}_F$:\n",
        "\n",
        "$min||X - AB||^{2}_F + \\lambda||A||^{2}_F = Tr((X-AB)^{T}(X-AB))+ \\lambda Tr(A^{T} A) = Tr((X^{T}-B^{T}A^{T})(X-AB))+ \\lambda Tr(A^{T} A) = Tr(X^T X - B^T A^T X - X^T A B + B^T A^T A B) + \\lambda Tr(A^{T} A) =\n",
        "Tr(X^T X) - Tr(B^T A^T X) - Tr(X^T A B) + Tr(B^T A^T A B) + Tr(\\lambda A^{T} A)$\n",
        "\n",
        "Αν παραγοντοποίησουμε κάθε έναν από τους παράπανω όρους ως προς τον πίνακα Α έχουμε :\n",
        "\n",
        "$\\nabla_A Tr(X^T X) = 0$\n",
        "<br>\n",
        "$\\nabla_A Tr(X^T A B) = X B^T$\n",
        "<br>\n",
        "$\\nabla_A Tr(B^T A^T X) = X B^T$\n",
        "<br>\n",
        "$\\nabla_A Tr(B^T A^T A B) = 2A B B^T$\n",
        "<br>\n",
        "$\\nabla_A Tr(\\lambda A^T A) = 2\\lambda A$\n",
        "\n",
        "Συνεπώς έχουμε ότι :\n",
        "<br>\n",
        "$\\nabla_A f(A,B) = -2X B^T + 2 A B B^T + 2\\lambda A$\n",
        "\n",
        "Παρόμοια αν παραγοντοποίησουμε κάθε έναν από τους παράπανω όρους ως προς τον πίνακα Β έχουμε :\n",
        "\n",
        "$\\nabla_Β Tr(X^T X) = 0$\n",
        "<br>\n",
        "$\\nabla_Β Tr(X^T A B) = (Χ^Τ Α)^Τ = Α^Τ Χ$\n",
        "<br>\n",
        "$\\nabla_Β Tr(B^T A^T X) = Α^Τ Χ$\n",
        "<br>\n",
        "$\\nabla_Β Tr(B^T A^T A B) = 2A^Τ Α Β$\n",
        "<br>\n",
        "$\\nabla_Β Tr(\\lambda A^T A) = 0$\n",
        "\n",
        "Συνεπώς έχουμε ότι :\n",
        "<br>\n",
        "$\\nabla_Β f(A,B) = -2Α^Τ Χ + 2A^Τ Α Β$\n",
        "\n",
        "Από τη θεωρία γνωρίζουμε ότι $\\nabla_A f(A,B) = \\nabla_A f(A,B)^{+} - \\nabla_A f(A,B)^{-} = 2 A B B^T + 2\\lambda A -2X B^T$\n",
        "<br><br>\n",
        "Άρα έχουμε ότι $\\eta_A = \\frac{A}{\\nabla_A f(A,B)^{+}} = \\frac{A}{2 A B B^T + 2\\lambda A} $ και τελικά το επαναληπτικό βήμα για το Α γίνεται :\n",
        "<br><br>\n",
        "$A = A - \\frac{A}{\\nabla_A f(A,B)^{+}} * \\nabla_A f(A,B) \\Leftrightarrow$\n",
        "<br><br>\n",
        "$A = A - \\frac{A}{2 A B B^T + 2\\lambda A} *2 A B B^T + 2\\lambda A -2X B^T \\Leftrightarrow$\n",
        "<br><br>\n",
        "$A = A - \\frac{A*(2 A B B^T + 2\\lambda A -2X B^T) }{2 A B B^T + 2\\lambda A}\\Leftrightarrow$\n",
        "<br><br>\n",
        "$A = A - \\frac{A*(2 A B B^T + 2\\lambda A) }{2 A B B^T + 2\\lambda A} +  \\frac{2X B^T}{2 A B B^T + 2\\lambda A} \\Leftrightarrow$\n",
        "<br><br>\n",
        "$A = A - A + A *\\frac{2X B^T}{2 A B B^T + 2\\lambda A} \\Leftrightarrow$\n",
        "<br><br>\n",
        "$A = A *\\frac{X B^T}{ A B B^T + \\lambda A} $\n",
        "<br><br>\n",
        "Με παρόμοια τρόπο λοιπόν καταλήγουμε και στο επαναληπτικό βήμα για το Β το οποίο θα είναι :\n",
        "<br><br>\n",
        "$Β = Β *\\frac{A^T X}{A^T A B} $ , το οποίο παραμένει ίδιο με την κανονική MNF άρα θεώρησα ότι οι πράξεις για αυτό θα μπορούσαν να παραληφθούν. Άρα οι πολλαπλασιαστικοί κανόνες ανανέωσης για το Α και Β θα είναι :\n",
        "<br><br>\n",
        "$A_{[t+1]} = A_{[t]} * \\frac{X_{[t]} B_{[t]}^T}{A_{[t]} B_{[t]} B_{[t]}^T + λA_{[t]}}$ και\n",
        "\n",
        "$B_{[t+1]} = B_{[t]} * \\frac{A_{[t]}^T X_{[t]}}{A_{[t]}^T A_{[t]} B_{[t]}}$\n"
      ]
    },
    {
      "cell_type": "markdown",
      "metadata": {
        "id": "F14n5bqh1WDi"
      },
      "source": [
        "2.2\n",
        "\n",
        "Από τα παραπάνω καταλήγουμε στο ότι σε κάθε βήμα ισχύει :\n",
        "\n",
        "$A_{[t+1]} = A_{[t]} * \\frac{X_{[t]} B_{[t]}^T}{A_{[t]} B_{[t]} B_{[t]}^T + λA_{[t]}}$ και\n",
        "\n",
        "$B_{[t+1]} = B_{[t]} * \\frac{A_{[t]}^T X_{[t]}}{A_{[t]}^T A_{[t]} B_{[t]}}$\n",
        "\n",
        "Άρα με τη βοήθεια του κώδικα που μας δόθηκε από το φροντηστήριο για την NMF προκύπτει η παρακάτω διαδικασία η οποία υλοποιεί την RegNMF :\n"
      ]
    },
    {
      "cell_type": "code",
      "execution_count": null,
      "metadata": {
        "id": "eQWEWg6n1Vga"
      },
      "outputs": [],
      "source": [
        "#Function to make every element of a matrix positive\n",
        "def make_absolute(X):\n",
        "  for i in range(X.shape[0]):\n",
        "    for j in range(X.shape[1]):\n",
        "      X[i,j]=abs(X[i,j])\n",
        "  return X\n",
        "\n",
        "\n",
        "def frobenius_norm(X,A,B):  ## find the error as the distanse\n",
        "\t\t#error between X and A*B\n",
        "\t\terror = LA.norm(X - np.dot(A, B))/LA.norm(X)  ##dif between X and AB as the equation\n",
        "\t\treturn error\n",
        "\n",
        "## update  B\n",
        "def update_b(X,A,B):\n",
        "  numerator = np.dot(A.T, X)\n",
        "  denominator = np.dot(A.T.dot(A), B)\n",
        "  B *= numerator\n",
        "  B /= denominator\n",
        "  return B\n",
        "\n",
        "## update A\n",
        "def update_a(X,A,B,l):\n",
        "  numerator = X.dot(B.T)\n",
        "  denominator = A.dot(B.dot(B.T)) + l*A\n",
        "  A *= numerator\n",
        "  A /= denominator\n",
        "  return A\n",
        "\n",
        "##compute nmf for specific rank with\n",
        "def RegNMF(X,k,l,epsilon):\n",
        "\n",
        "  X_dim, samples = X.shape\n",
        "\n",
        "  A = np.random.random((X_dim, k))  ##init\n",
        "\n",
        "  B = np.random.random((k, samples)) ## init\n",
        "\n",
        "  frob_error = []\n",
        "\n",
        "  frob_error_t_minus_1=0\n",
        "\n",
        "  while True:\n",
        "\n",
        "        aNew=update_a(X,A,B,l)\n",
        "\n",
        "        bNew=update_b(X,A,B)\n",
        "\n",
        "        if frob_error_t_minus_1==0:\n",
        "          frob_error_t = frobenius_norm(X,aNew,bNew)\n",
        "          frob_error_t_minus_1=1\n",
        "        else:\n",
        "          frob_error_t_minus_1 = frob_error_t\n",
        "          frob_error_t = frobenius_norm(X,aNew,bNew)\n",
        "\n",
        "          if (frob_error_t_minus_1 - frob_error_t) <= epsilon:\n",
        "            break\n",
        "\n",
        "        frob_error.append(frob_error_t)\n",
        "\n",
        "  return aNew,bNew,frob_error"
      ]
    },
    {
      "cell_type": "markdown",
      "metadata": {
        "id": "JCS3FQSim1Ff"
      },
      "source": [
        "Δημιουργία του πίνακα X για τον έλεγχο της RegNMF και κλήση της με τα δεδομένα που ζητούνται από την εκφώνηση. Παρατηρούμε ότι το μέγεθος του k και του e επηρεάζουν σε πολύ μεγάλο βαθμό την σύγκλιση του αλγορίθμου. Όσο πιο μικρό είναι το e τόσο πιο αργά συγκλίνει ο αλγόριθμος και αντίστοιχα για το k."
      ]
    },
    {
      "cell_type": "code",
      "execution_count": null,
      "metadata": {
        "id": "wLFDKGwiAoYi"
      },
      "outputs": [],
      "source": [
        "W = np.random.random((500, 10))\n",
        "W = make_absolute(W)\n",
        "H = np.random.random((10, 500))\n",
        "H = make_absolute(H)\n",
        "X = W.dot(H)\n",
        "\n",
        "l=0.5\n",
        "k=5\n",
        "epsilon=0.1\n",
        "A,B,error = RegNMF(X,k,l,epsilon)\n",
        "print(\"k=5 & e=0.1\")\n",
        "print (A.dot(B))\n",
        "print (\"-------\")\n",
        "print (error)\n",
        "print (\"--------\")\n",
        "\n",
        "k=10\n",
        "epsilon=0.1\n",
        "print(\"k=10 & e=0.1\")\n",
        "A,B,error = RegNMF(X,k,l,epsilon)\n",
        "print (A.dot(B))\n",
        "print (\"-------\")\n",
        "print (error)\n",
        "print (\"-------\")\n",
        "\n",
        "k=50\n",
        "epsilon=0.1\n",
        "print(\"k=50 & e=0.1\")\n",
        "A,B,error = RegNMF(X,k,l,epsilon)\n",
        "print (A.dot(B))\n",
        "print (\"-------\")\n",
        "print (error)\n",
        "print (\"-------\")\n",
        "\n",
        "k=5\n",
        "epsilon=0.01\n",
        "A,B,error = RegNMF(X,k,l,epsilon)\n",
        "print(\"k=5 & e=0.01\")\n",
        "print (A.dot(B))\n",
        "print (\"-------\")\n",
        "print (error)\n",
        "print (\"--------\")\n",
        "\n",
        "k=10\n",
        "epsilon=0.01\n",
        "print(\"k=10 & e=0.01\")\n",
        "A,B,error = RegNMF(X,k,l,epsilon)\n",
        "print (A.dot(B))\n",
        "print (\"-------\")\n",
        "print (error)\n",
        "print (\"-------\")\n",
        "\n",
        "k=50\n",
        "epsilon=0.01\n",
        "print(\"k=50 & e=0.01\")\n",
        "A,B,error = RegNMF(X,k,l,epsilon)\n",
        "print (A.dot(B))\n",
        "print (\"-------\")\n",
        "print (error)\n",
        "print (\"-------\")\n",
        "\n",
        "k=5\n",
        "epsilon=0.001\n",
        "A,B,error = RegNMF(X,k,l,epsilon)\n",
        "print(\"k=5 & e=0.001\")\n",
        "print (A.dot(B))\n",
        "print (\"-------\")\n",
        "print (error)\n",
        "print (\"--------\")\n",
        "\n",
        "k=10\n",
        "epsilon=0.001\n",
        "print(\"k=10 & e=0.001\")\n",
        "A,B,error = RegNMF(X,k,l,epsilon)\n",
        "print (A.dot(B))\n",
        "print (\"-------\")\n",
        "print (error)\n",
        "print (\"-------\")\n",
        "\n",
        "k=50\n",
        "epsilon=0.001\n",
        "print(\"k=50 & e=0.001\")\n",
        "A,B,error = RegNMF(X,k,l,epsilon)\n",
        "print (A.dot(B))\n",
        "print (\"-------\")\n",
        "print (error)\n",
        "print (\"-------\")"
      ]
    },
    {
      "cell_type": "markdown",
      "metadata": {
        "id": "fgRYJOPNmsUC"
      },
      "source": [
        "Ένα παράδειγμα με εικόνα για το μετασχηματισμό και την ορθή λειτουργία του."
      ]
    },
    {
      "cell_type": "code",
      "execution_count": null,
      "metadata": {
        "id": "fNKEyoogEuQi"
      },
      "outputs": [],
      "source": [
        "img = cv2.imread('/content/drive/MyDrive/DSC_8607.JPG',0)\n",
        "plt.figure(figsize=(3, 3))\n",
        "plt.imshow(img, cmap=plt.cm.gray)\n",
        "\n",
        "l=0.5\n",
        "epsilon=0.0001\n",
        "plt.figure(figsize=(12, 12))\n",
        "for i in range(1,17,1):\n",
        "  plt.subplot(4, 4, i)\n",
        "  rank=i\n",
        "  print(rank)\n",
        "  A,B,frob_error=RegNMF(img,rank*4,l,epsilon) #rank 1 to 64 step 4\n",
        "  new_img = np.dot(A,B)\n",
        "  plt.imshow(new_img, cmap=plt.cm.gray)"
      ]
    }
  ],
  "metadata": {
    "colab": {
      "provenance": []
    },
    "kernelspec": {
      "display_name": "Python 3",
      "name": "python3"
    },
    "language_info": {
      "name": "python"
    }
  },
  "nbformat": 4,
  "nbformat_minor": 0
}
